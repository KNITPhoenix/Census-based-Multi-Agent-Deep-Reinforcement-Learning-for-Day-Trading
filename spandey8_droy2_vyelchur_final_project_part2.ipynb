{
 "cells": [
  {
   "cell_type": "markdown",
   "metadata": {
    "id": "G_DSNxO9K1E0"
   },
   "source": [
    "# Installing and importing Dependencies"
   ]
  },
  {
   "cell_type": "code",
   "execution_count": 1,
   "metadata": {
    "colab": {
     "base_uri": "https://localhost:8080/"
    },
    "id": "x1Vz5JyAcwGT",
    "outputId": "13e2905a-f9cc-4e73-8431-b2a75d292b2a"
   },
   "outputs": [
    {
     "name": "stdout",
     "output_type": "stream",
     "text": [
      "Looking in indexes: https://pypi.org/simple, https://us-python.pkg.dev/colab-wheels/public/simple/\n",
      "Requirement already satisfied: yfinance in /usr/local/lib/python3.8/dist-packages (0.1.87)\n",
      "Requirement already satisfied: appdirs>=1.4.4 in /usr/local/lib/python3.8/dist-packages (from yfinance) (1.4.4)\n",
      "Requirement already satisfied: numpy>=1.15 in /usr/local/lib/python3.8/dist-packages (from yfinance) (1.21.6)\n",
      "Requirement already satisfied: requests>=2.26 in /usr/local/lib/python3.8/dist-packages (from yfinance) (2.28.1)\n",
      "Requirement already satisfied: pandas>=0.24.0 in /usr/local/lib/python3.8/dist-packages (from yfinance) (1.3.5)\n",
      "Requirement already satisfied: lxml>=4.5.1 in /usr/local/lib/python3.8/dist-packages (from yfinance) (4.9.1)\n",
      "Requirement already satisfied: multitasking>=0.0.7 in /usr/local/lib/python3.8/dist-packages (from yfinance) (0.0.11)\n",
      "Requirement already satisfied: pytz>=2017.3 in /usr/local/lib/python3.8/dist-packages (from pandas>=0.24.0->yfinance) (2022.6)\n",
      "Requirement already satisfied: python-dateutil>=2.7.3 in /usr/local/lib/python3.8/dist-packages (from pandas>=0.24.0->yfinance) (2.8.2)\n",
      "Requirement already satisfied: six>=1.5 in /usr/local/lib/python3.8/dist-packages (from python-dateutil>=2.7.3->pandas>=0.24.0->yfinance) (1.15.0)\n",
      "Requirement already satisfied: idna<4,>=2.5 in /usr/local/lib/python3.8/dist-packages (from requests>=2.26->yfinance) (2.10)\n",
      "Requirement already satisfied: urllib3<1.27,>=1.21.1 in /usr/local/lib/python3.8/dist-packages (from requests>=2.26->yfinance) (1.24.3)\n",
      "Requirement already satisfied: certifi>=2017.4.17 in /usr/local/lib/python3.8/dist-packages (from requests>=2.26->yfinance) (2022.9.24)\n",
      "Requirement already satisfied: charset-normalizer<3,>=2 in /usr/local/lib/python3.8/dist-packages (from requests>=2.26->yfinance) (2.1.1)\n",
      "Looking in indexes: https://pypi.org/simple, https://us-python.pkg.dev/colab-wheels/public/simple/\n",
      "Requirement already satisfied: pandas_ta in /usr/local/lib/python3.8/dist-packages (0.3.14b0)\n",
      "Requirement already satisfied: pandas in /usr/local/lib/python3.8/dist-packages (from pandas_ta) (1.3.5)\n",
      "Requirement already satisfied: numpy>=1.17.3 in /usr/local/lib/python3.8/dist-packages (from pandas->pandas_ta) (1.21.6)\n",
      "Requirement already satisfied: python-dateutil>=2.7.3 in /usr/local/lib/python3.8/dist-packages (from pandas->pandas_ta) (2.8.2)\n",
      "Requirement already satisfied: pytz>=2017.3 in /usr/local/lib/python3.8/dist-packages (from pandas->pandas_ta) (2022.6)\n",
      "Requirement already satisfied: six>=1.5 in /usr/local/lib/python3.8/dist-packages (from python-dateutil>=2.7.3->pandas->pandas_ta) (1.15.0)\n",
      "Looking in indexes: https://pypi.org/simple, https://us-python.pkg.dev/colab-wheels/public/simple/\n",
      "Requirement already satisfied: ta in /usr/local/lib/python3.8/dist-packages (0.10.2)\n",
      "Requirement already satisfied: numpy in /usr/local/lib/python3.8/dist-packages (from ta) (1.21.6)\n",
      "Requirement already satisfied: pandas in /usr/local/lib/python3.8/dist-packages (from ta) (1.3.5)\n",
      "Requirement already satisfied: python-dateutil>=2.7.3 in /usr/local/lib/python3.8/dist-packages (from pandas->ta) (2.8.2)\n",
      "Requirement already satisfied: pytz>=2017.3 in /usr/local/lib/python3.8/dist-packages (from pandas->ta) (2022.6)\n",
      "Requirement already satisfied: six>=1.5 in /usr/local/lib/python3.8/dist-packages (from python-dateutil>=2.7.3->pandas->ta) (1.15.0)\n"
     ]
    }
   ],
   "source": [
    "%pip install yfinance\n",
    "%pip install pandas_ta\n",
    "%pip install ta"
   ]
  },
  {
   "cell_type": "code",
   "execution_count": 2,
   "metadata": {
    "id": "6X11MoGmce63"
   },
   "outputs": [],
   "source": [
    "import numpy as np\n",
    "import pandas as pd\n",
    "import plotly.graph_objects as go\n",
    "import yfinance as yf\n",
    "from ta.trend import ADXIndicator\n",
    "import pandas_ta as pd_ta\n",
    "import random\n",
    "import torch\n",
    "import gym\n",
    "import matplotlib.pyplot as plt\n",
    "from IPython.display import clear_output\n",
    "import torch.nn as nn\n",
    "from torch.distributions import Categorical as Cat\n",
    "from torch.optim import Adam as adam\n",
    "# gpu = torch.device('cuda' if torch.cuda.is_available() else 'cpu')\n",
    "gpu='cpu'"
   ]
  },
  {
   "cell_type": "markdown",
   "metadata": {
    "id": "iY02AfE_LwBo"
   },
   "source": [
    "# Environment"
   ]
  },
  {
   "cell_type": "markdown",
   "metadata": {
    "id": "Jiq1ncrILDK9"
   },
   "source": [
    "## Defining Indicators for the observation"
   ]
  },
  {
   "cell_type": "code",
   "execution_count": 3,
   "metadata": {
    "id": "Tpe_4aJJv9Rt"
   },
   "outputs": [],
   "source": [
    "def data_ops(data):\n",
    "  data.reset_index()\n",
    "  data.ta.macd(close = 'Close', fast = 12, slow = 26, signal=10, append=True)\n",
    "  data.ta.rsi(close='Close', length=10, append=True)\n",
    "  data['TP'] = (data['High'] + data['Low'] + data['Close'])\n",
    "  data['CCI'] = (data['TP'] - data['TP'].rolling(10).mean()) / (0.015 * data['TP'].rolling(10).std())\n",
    "  data['Adj Open'] = data.Open * data['Adj Close']/data['Close']\n",
    "  data['Adj High'] = data.High * data['Adj Close']/data['Close']\n",
    "  data['Adj Low'] = data.Low * data['Adj Close']/data['Close']\n",
    "  adxI = ADXIndicator(data['Adj High'], data['Adj Low'], data['Adj Close'], 10, False)\n",
    "  data['ADX'] = adxI.adx()\n",
    "  data.dropna()\n",
    "  req_col = ['Open', 'High', 'Close', 'Low', 'Adj Close', 'MACDs_12_26_10', 'RSI_10', 'CCI', 'ADX']\n",
    "  new_data = data[req_col]\n",
    "  return new_data.dropna()"
   ]
  },
  {
   "cell_type": "markdown",
   "metadata": {
    "id": "k1Jdz_aFLSaz"
   },
   "source": [
    "## Defining the environment"
   ]
  },
  {
   "cell_type": "code",
   "execution_count": 4,
   "metadata": {
    "id": "etV8VazHcsvU"
   },
   "outputs": [],
   "source": [
    "class StockTradingEnv:\n",
    "  def __init__(self, stock = 'DOGE-USD', start = '2022-10-15', end='2022-11-30', period='15m', start_balance=[1000, 1000], step_val = 4):\n",
    "    data = yf.download(stock, start = start, end = end, interval = period)\n",
    "    self.data = data_ops(data)\n",
    "    self.start_bal = start_balance\n",
    "    self.step_val = step_val\n",
    "    self.step_bal = [(start_balance[0]/self.data.iloc[0]['Adj Close']), start_balance[1]]\n",
    "  \n",
    "  def load_obs(self):\n",
    "    obs = [None] * 7\n",
    "    if self.flag0 == 0:\n",
    "      obs[0] = self.start_bal[1]\n",
    "      obs[1] = self.start_bal[0]/self.data.iloc[0]['Open']\n",
    "    else:\n",
    "      obs[0] = self.step_bal[1]\n",
    "      obs[1] = self.step_bal[0]/self.data.iloc[self.flag0]['Adj Close']\n",
    "    obs[2] = self.data.iloc[self.flag0]['Adj Close']\n",
    "    obs[3] = self.data.iloc[self.flag0]['MACDs_12_26_10']\n",
    "    obs[4] = self.data.iloc[self.flag0]['RSI_10']\n",
    "    obs[5] = self.data.iloc[self.flag0]['CCI']\n",
    "    obs[6] = self.data.iloc[self.flag0]['ADX']\n",
    "    return obs\n",
    "\n",
    "  def reset(self):\n",
    "    self.step_bal = [(self.start_bal[0]/self.data.iloc[0]['Adj Close']), self.start_bal[1]]\n",
    "    self.flag0 = 0\n",
    "    self.observation = self.load_obs()\n",
    "    self.done = False\n",
    "    self.completed = False\n",
    "    self.prev_port_val = 2000\n",
    "    self.port_track = []\n",
    "    self.prev_port = {}\n",
    "    return self.observation\n",
    "\n",
    "  def update_portfolio(self, action):\n",
    "    val = action * self.data.iloc[self.flag0]['Adj Close']\n",
    "    reward = 0\n",
    "    if val > 0:\n",
    "      if val > self.step_bal[1]:\n",
    "        reward = -5\n",
    "      else:\n",
    "        self.step_bal[0] += action\n",
    "        self.step_bal[1] -= val\n",
    "        port_val = self.step_bal[0] * self.data.iloc[self.flag0]['Adj Close'] + self.step_bal[1]\n",
    "        reward = port_val - self.prev_port_val + 5\n",
    "        self.prev_port_val = port_val\n",
    "    elif val < 0 :\n",
    "      if abs(action) > self.step_bal[0]:\n",
    "        reward = -10\n",
    "      else:\n",
    "        self.step_bal[0] += action\n",
    "        self.step_bal[1] -= val\n",
    "        port_val = self.step_bal[0] * self.data.iloc[self.flag0]['Adj Close'] + self.step_bal[1]\n",
    "        reward = port_val - 2000 + 5\n",
    "        self.prev_port_val = port_val\n",
    "    else:\n",
    "      port_val = self.step_bal[0] * self.data.iloc[self.flag0]['Adj Close'] + self.step_bal[1]\n",
    "      reward = port_val - 2000 + 10\n",
    "      self.prev_port_val = port_val\n",
    "    self.flag0 += 1\n",
    "    self.observation = self.load_obs()\n",
    "    return reward     \n",
    "\n",
    "  def step(self, action):\n",
    "    action = int(action[0]*100)\n",
    "    reward = self.update_portfolio(action)\n",
    "    if self.prev_port_val <= 0:\n",
    "      self.done = True\n",
    "    elif self.flag0 == self.data.shape[0]:\n",
    "      self.completed = True\n",
    "      self.done = True\n",
    "    return self.observation, reward, self.completed, self.done"
   ]
  },
  {
   "cell_type": "markdown",
   "metadata": {
    "id": "i6FaJ6B3Nm16"
   },
   "source": [
    "# A2C Implementation"
   ]
  },
  {
   "cell_type": "markdown",
   "metadata": {
    "id": "DekeF1xnN0rd"
   },
   "source": [
    "## Defining the A2C architecture"
   ]
  },
  {
   "cell_type": "code",
   "execution_count": 5,
   "metadata": {
    "id": "U6Vn5QMuNqY6"
   },
   "outputs": [],
   "source": [
    "class model(torch.nn.Module):\n",
    "    def __init__(self,states,actions):\n",
    "        super(model,self).__init__()\n",
    "        self.states = states\n",
    "        self.actions = actions\n",
    "        \n",
    "        actor_layers = list()\n",
    "        actor_layers.append(nn.Linear(self.states,512))\n",
    "        actor_layers.append(nn.ReLU())\n",
    "        actor_layers.append(nn.Linear(512,256))\n",
    "        actor_layers.append(nn.ReLU())\n",
    "        actor_layers.append(nn.Linear(256,self.actions))\n",
    "        actor_layers.append(nn.Tanh())\n",
    "        \n",
    "        critic_layers = list()\n",
    "        critic_layers.append(nn.Linear(self.states,512))\n",
    "        critic_layers.append(nn.ReLU())\n",
    "        critic_layers.append(nn.Linear(512, 256))\n",
    "        critic_layers.append(nn.ReLU())\n",
    "        critic_layers.append(nn.Linear(256,1))\n",
    "\n",
    "        self.actor_forward = nn.Sequential(*actor_layers)\n",
    "        self.critic_forward = nn.Sequential(*critic_layers)\n",
    "        \n",
    "    def evaluation(self,states,move):\n",
    "        dist = self.actor_forward(states)\n",
    "        act_va = torch.full((self.actions,),0.6*0.6).to(gpu).expand_as(dist)\n",
    "        cov = torch.diag_embed(act_va).to(gpu)\n",
    "        distri = torch.distributions.MultivariateNormal(dist,cov)\n",
    "        if self.actions == 1:\n",
    "            move = move.reshape(-1,self.actions)\n",
    "        action_probability = distri.log_prob(move)\n",
    "        entropy = distri.entropy()\n",
    "        values = self.critic_forward(states)\n",
    "        return action_probability,values,entropy\n",
    "\n",
    "    def move(self,states): \n",
    "        distri = self.actor_forward(states)\n",
    "        cov = torch.diag(torch.full((self.actions,),0.6*0.6).to(gpu)).unsqueeze(dim=0)\n",
    "        dist = torch.distributions.MultivariateNormal(distri,cov)\n",
    "        actions = dist.sample()\n",
    "        probability_actions = dist.log_prob(actions)\n",
    "        return actions.detach(),probability_actions.detach()"
   ]
  },
  {
   "cell_type": "markdown",
   "metadata": {
    "id": "FZUUvvv6OJCj"
   },
   "source": [
    "## Defining the Training algorithm for A2C"
   ]
  },
  {
   "cell_type": "code",
   "execution_count": 6,
   "metadata": {
    "id": "boP2-I2NOGxh"
   },
   "outputs": [],
   "source": [
    "def a2c_training(env, ac_net,\n",
    "                 optimizer, gamma,\n",
    "                 episodes, time_limit):\n",
    "  tot_rew = 0\n",
    "  rew_per_ep = []\n",
    "  end_port_value = []\n",
    "  num_buys = []\n",
    "  num_sells = []\n",
    "\n",
    "  def choose_action(state):\n",
    "    # choosing action using policy network\n",
    "    action, log_a = ac_net.move(state)\n",
    "    return action, log_a\n",
    "  \n",
    "  def discounted_rewards(rewards, done_inv):\n",
    "    # Calculating cumulative discounted reward using gamma\n",
    "    R = 0\n",
    "    size = len(rewards)\n",
    "    cd_rewards = [0] * size\n",
    "    for i in reversed(range(size)):\n",
    "        R = rewards[i] + gamma * R * done_inv[i]\n",
    "        cd_rewards[i] = R\n",
    "    return cd_rewards\n",
    "  \n",
    "  def train_step(discounted_rewards, actions, states):\n",
    "    discounted_rewards = torch.cat(discounted_rewards).detach().to(gpu)\n",
    "    actions = torch.cat(actions).detach().to(gpu)\n",
    "    states = torch.squeeze(torch.stack(states, dim=0)).to(gpu)\n",
    "    acts_prob,values, entropy = ac_net.evaluation(states, actions)\n",
    "    advantage = discounted_rewards - values\n",
    "    policy_loss = -(acts_prob * advantage.detach()).mean()\n",
    "    critic_loss = advantage.pow(2).mean()\n",
    "    optimizer.zero_grad()\n",
    "    policy_loss.backward(retain_graph=True)\n",
    "    critic_loss.backward(retain_graph=True)\n",
    "    optimizer.step()\n",
    "    \n",
    "\n",
    "  for i in range(episodes):\n",
    "    obs = env.reset()\n",
    "    done = False\n",
    "    tot_rew = 0\n",
    "    rewards = []\n",
    "    done_invs = []\n",
    "    actions = []\n",
    "    states = []\n",
    "    num_buy = 0\n",
    "    num_sell = 0\n",
    "    for t in range(time_limit):\n",
    "      if done:\n",
    "        break\n",
    "      action, log_a = choose_action(torch.FloatTensor(obs))\n",
    "      if action.numpy()[0] <0:\n",
    "        num_sell +=1\n",
    "      else:\n",
    "        num_buy += 1\n",
    "      obs_next, r, done, _= env.step(action.numpy()[0])\n",
    "      states.append(torch.FloatTensor(obs))\n",
    "      actions.append(action)\n",
    "      done_inv = 1.0\n",
    "      if done or (t == (time_limit - 1)):\n",
    "        done_inv = 0.0\n",
    "        r = 0\n",
    "      done_invs.append(torch.tensor([done_inv], dtype=torch.float))\n",
    "      rewards.append(torch.tensor([r], dtype=torch.float))\n",
    "      obs = obs_next\n",
    "      tot_rew+=r\n",
    "    \n",
    "    c_dis_rewards = discounted_rewards(rewards, done_invs)\n",
    "    train_step(c_dis_rewards, actions, states)\n",
    "    num_buys.append(num_buy)\n",
    "    num_sells.append(num_sell)\n",
    "    end_port_value.append(env.prev_port_val)\n",
    "    rew_per_ep.append(tot_rew)\n",
    "    if i % (episodes/100) == 0 and i!=0:\n",
    "      clear_output(wait=True)\n",
    "      print(\"percent complete:\",int((i/episodes)*100),\"| score:\",tot_rew, \"| Port val:\",env.prev_port_val)\n",
    "    \n",
    "  clear_output(wait=True)\n",
    "  print(\"Training completed, last episode score:\",tot_rew)\n",
    "  return ac_net, rew_per_ep, end_port_value, num_buys, num_sells"
   ]
  },
  {
   "cell_type": "markdown",
   "metadata": {
    "id": "YBUZWgmLOg8V"
   },
   "source": [
    "## Training the environment on A2C"
   ]
  },
  {
   "cell_type": "code",
   "execution_count": 7,
   "metadata": {
    "colab": {
     "base_uri": "https://localhost:8080/"
    },
    "id": "yTk7kz3tOlnd",
    "outputId": "ffd71258-a7e7-469a-8d83-65c07813b89c"
   },
   "outputs": [
    {
     "name": "stdout",
     "output_type": "stream",
     "text": [
      "Training completed, last episode score: 160449.34780663185\n"
     ]
    }
   ],
   "source": [
    "learning_rate = 0.001\n",
    "env = StockTradingEnv()\n",
    "ac_net = model(7,1)\n",
    "episode_limit = 4000\n",
    "episodes = 1000\n",
    "gamma = 0.99\n",
    "optimizer = adam(ac_net.parameters(), lr=learning_rate)\n",
    "net, rew_p_e, end_port_vals, num_buys, num_sells = a2c_training(env, ac_net, optimizer, gamma, episodes,episode_limit)"
   ]
  },
  {
   "cell_type": "code",
   "execution_count": 8,
   "metadata": {
    "colab": {
     "base_uri": "https://localhost:8080/",
     "height": 295
    },
    "id": "fjDKUS1eO1Ot",
    "outputId": "a6ddb4f9-4aea-44c5-c9b5-9482ce59a2f6"
   },
   "outputs": [
    {
     "data": {
      "image/png": "[encoded data removed]",
      "text/plain": [
       "<Figure size 432x288 with 1 Axes>"
      ]
     },
     "metadata": {
      "needs_background": "light"
     },
     "output_type": "display_data"
    }
   ],
   "source": [
    "plt.plot(end_port_vals)\n",
    "plt.title(\"Training for A2C\")\n",
    "plt.xlabel(\"Episodes\")\n",
    "plt.ylabel(\"End portfolio value of episodes\")\n",
    "plt.show()"
   ]
  },
  {
   "cell_type": "markdown",
   "metadata": {
    "id": "OB1geD5KOn0-"
   },
   "source": [
    "## Testing the environment on A2C"
   ]
  },
  {
   "cell_type": "code",
   "execution_count": 12,
   "metadata": {
    "colab": {
     "base_uri": "https://localhost:8080/"
    },
    "id": "YuhGLriLPV05",
    "outputId": "537ed945-f951-4367-ad7a-ae2331d82bb9"
   },
   "outputs": [
    {
     "name": "stdout",
     "output_type": "stream",
     "text": [
      "\r",
      "[*********************100%***********************]  1 of 1 completed\n"
     ]
    },
    {
     "name": "stderr",
     "output_type": "stream",
     "text": [
      "/usr/local/lib/python3.8/dist-packages/ta/trend.py:780: RuntimeWarning: invalid value encountered in double_scalars\n",
      "  dip[idx] = 100 * (self._dip[idx] / value)\n",
      "/usr/local/lib/python3.8/dist-packages/ta/trend.py:785: RuntimeWarning: invalid value encountered in double_scalars\n",
      "  din[idx] = 100 * (self._din[idx] / value)\n"
     ]
    }
   ],
   "source": [
    "env = StockTradingEnv()\n",
    "obs = env.reset()\n",
    "done = False\n",
    "rews = []\n",
    "end_port_vals_test = []\n",
    "for i in range(10):\n",
    "  done = False\n",
    "  obs = env.reset()\n",
    "  tot_rew = 0\n",
    "  for i in range(4000):\n",
    "    action, log_a = net.move(torch.FloatTensor(obs))\n",
    "    obs, r, done, _= env.step(action.numpy()[0])\n",
    "    tot_rew += r\n",
    "  rews.append(tot_rew)\n",
    "  end_port_vals_test.append(env.prev_port_val)"
   ]
  },
  {
   "cell_type": "code",
   "execution_count": 13,
   "metadata": {
    "colab": {
     "base_uri": "https://localhost:8080/",
     "height": 295
    },
    "id": "7_wsARQ36Jdp",
    "outputId": "49cf46ac-2249-41d5-8ee1-08731f85fda0"
   },
   "outputs": [
    {
     "data": {
      "image/png": "[encoded data removed]",
      "text/plain": [
       "<Figure size 432x288 with 1 Axes>"
      ]
     },
     "metadata": {
      "needs_background": "light"
     },
     "output_type": "display_data"
    }
   ],
   "source": [
    "plt.plot(end_port_vals_test)\n",
    "plt.title(\"Testing for A2C\")\n",
    "plt.xlabel(\"Episodes\")\n",
    "plt.ylabel(\"End portfolio values of episodes\")\n",
    "plt.show()"
   ]
  },
  {
   "cell_type": "code",
   "execution_count": 14,
   "metadata": {
    "colab": {
     "base_uri": "https://localhost:8080/"
    },
    "id": "4fz6Dnlxb1_W",
    "outputId": "d8cc79ec-0ac9-4147-e8ae-07261f4454be"
   },
   "outputs": [
    {
     "data": {
      "text/plain": [
       "3037.5357370164065"
      ]
     },
     "execution_count": 14,
     "metadata": {},
     "output_type": "execute_result"
    }
   ],
   "source": [
    "np.mean(end_port_vals_test)"
   ]
  },
  {
   "cell_type": "code",
   "execution_count": null,
   "metadata": {
    "id": "CocX4m6Zb5cr"
   },
   "outputs": [],
   "source": []
  }
 ],
 "metadata": {
  "accelerator": "GPU",
  "colab": {
   "collapsed_sections": [
    "G_DSNxO9K1E0",
    "iY02AfE_LwBo",
    "Jiq1ncrILDK9",
    "k1Jdz_aFLSaz",
    "i6FaJ6B3Nm16",
    "DekeF1xnN0rd",
    "FZUUvvv6OJCj",
    "YBUZWgmLOg8V",
    "OB1geD5KOn0-"
   ],
   "provenance": []
  },
  "gpuClass": "standard",
  "kernelspec": {
   "display_name": "Python 3 (ipykernel)",
   "language": "python",
   "name": "python3"
  },
  "language_info": {
   "codemirror_mode": {
    "name": "ipython",
    "version": 3
   },
   "file_extension": ".py",
   "mimetype": "text/x-python",
   "name": "python",
   "nbconvert_exporter": "python",
   "pygments_lexer": "ipython3",
   "version": "3.10.4"
  }
 },
 "nbformat": 4,
 "nbformat_minor": 1
}
