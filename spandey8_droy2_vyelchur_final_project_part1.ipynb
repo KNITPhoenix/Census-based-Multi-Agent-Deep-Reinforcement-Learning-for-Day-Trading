{
 "cells": [
  {
   "cell_type": "markdown",
   "metadata": {
    "id": "G_DSNxO9K1E0"
   },
   "source": [
    "# Installing and importing Dependencies"
   ]
  },
  {
   "cell_type": "code",
   "execution_count": 1,
   "metadata": {
    "colab": {
     "base_uri": "https://localhost:8080/"
    },
    "id": "x1Vz5JyAcwGT",
    "outputId": "70dfdbbe-9eab-4d2d-db78-ec8bf8d638f2"
   },
   "outputs": [
    {
     "name": "stdout",
     "output_type": "stream",
     "text": [
      "Looking in indexes: https://pypi.org/simple, https://us-python.pkg.dev/colab-wheels/public/simple/\n",
      "Requirement already satisfied: yfinance in /usr/local/lib/python3.8/dist-packages (0.1.87)\n",
      "Requirement already satisfied: multitasking>=0.0.7 in /usr/local/lib/python3.8/dist-packages (from yfinance) (0.0.11)\n",
      "Requirement already satisfied: numpy>=1.15 in /usr/local/lib/python3.8/dist-packages (from yfinance) (1.21.6)\n",
      "Requirement already satisfied: appdirs>=1.4.4 in /usr/local/lib/python3.8/dist-packages (from yfinance) (1.4.4)\n",
      "Requirement already satisfied: lxml>=4.5.1 in /usr/local/lib/python3.8/dist-packages (from yfinance) (4.9.1)\n",
      "Requirement already satisfied: pandas>=0.24.0 in /usr/local/lib/python3.8/dist-packages (from yfinance) (1.3.5)\n",
      "Requirement already satisfied: requests>=2.26 in /usr/local/lib/python3.8/dist-packages (from yfinance) (2.28.1)\n",
      "Requirement already satisfied: python-dateutil>=2.7.3 in /usr/local/lib/python3.8/dist-packages (from pandas>=0.24.0->yfinance) (2.8.2)\n",
      "Requirement already satisfied: pytz>=2017.3 in /usr/local/lib/python3.8/dist-packages (from pandas>=0.24.0->yfinance) (2022.6)\n",
      "Requirement already satisfied: six>=1.5 in /usr/local/lib/python3.8/dist-packages (from python-dateutil>=2.7.3->pandas>=0.24.0->yfinance) (1.15.0)\n",
      "Requirement already satisfied: urllib3<1.27,>=1.21.1 in /usr/local/lib/python3.8/dist-packages (from requests>=2.26->yfinance) (1.24.3)\n",
      "Requirement already satisfied: charset-normalizer<3,>=2 in /usr/local/lib/python3.8/dist-packages (from requests>=2.26->yfinance) (2.1.1)\n",
      "Requirement already satisfied: idna<4,>=2.5 in /usr/local/lib/python3.8/dist-packages (from requests>=2.26->yfinance) (2.10)\n",
      "Requirement already satisfied: certifi>=2017.4.17 in /usr/local/lib/python3.8/dist-packages (from requests>=2.26->yfinance) (2022.9.24)\n",
      "Looking in indexes: https://pypi.org/simple, https://us-python.pkg.dev/colab-wheels/public/simple/\n",
      "Requirement already satisfied: pandas_ta in /usr/local/lib/python3.8/dist-packages (0.3.14b0)\n",
      "Requirement already satisfied: pandas in /usr/local/lib/python3.8/dist-packages (from pandas_ta) (1.3.5)\n",
      "Requirement already satisfied: numpy>=1.17.3 in /usr/local/lib/python3.8/dist-packages (from pandas->pandas_ta) (1.21.6)\n",
      "Requirement already satisfied: pytz>=2017.3 in /usr/local/lib/python3.8/dist-packages (from pandas->pandas_ta) (2022.6)\n",
      "Requirement already satisfied: python-dateutil>=2.7.3 in /usr/local/lib/python3.8/dist-packages (from pandas->pandas_ta) (2.8.2)\n",
      "Requirement already satisfied: six>=1.5 in /usr/local/lib/python3.8/dist-packages (from python-dateutil>=2.7.3->pandas->pandas_ta) (1.15.0)\n",
      "Looking in indexes: https://pypi.org/simple, https://us-python.pkg.dev/colab-wheels/public/simple/\n",
      "Requirement already satisfied: ta in /usr/local/lib/python3.8/dist-packages (0.10.2)\n",
      "Requirement already satisfied: pandas in /usr/local/lib/python3.8/dist-packages (from ta) (1.3.5)\n",
      "Requirement already satisfied: numpy in /usr/local/lib/python3.8/dist-packages (from ta) (1.21.6)\n",
      "Requirement already satisfied: pytz>=2017.3 in /usr/local/lib/python3.8/dist-packages (from pandas->ta) (2022.6)\n",
      "Requirement already satisfied: python-dateutil>=2.7.3 in /usr/local/lib/python3.8/dist-packages (from pandas->ta) (2.8.2)\n",
      "Requirement already satisfied: six>=1.5 in /usr/local/lib/python3.8/dist-packages (from python-dateutil>=2.7.3->pandas->ta) (1.15.0)\n"
     ]
    }
   ],
   "source": [
    "%pip install yfinance\n",
    "%pip install pandas_ta\n",
    "%pip install ta"
   ]
  },
  {
   "cell_type": "code",
   "execution_count": 2,
   "metadata": {
    "id": "6X11MoGmce63"
   },
   "outputs": [],
   "source": [
    "import numpy as np\n",
    "import pandas as pd\n",
    "import plotly.graph_objects as go\n",
    "import yfinance as yf\n",
    "from ta.trend import ADXIndicator\n",
    "import pandas_ta as pd_ta\n",
    "import torch\n",
    "import gym\n",
    "import matplotlib.pyplot as plt\n",
    "from IPython.display import clear_output\n",
    "import torch.nn as nn\n",
    "from torch.distributions import Categorical as Cat\n",
    "from torch.optim import Adam as adam\n",
    "gpu = torch.device('cuda' if torch.cuda.is_available() else 'cpu')"
   ]
  },
  {
   "cell_type": "markdown",
   "metadata": {
    "id": "iY02AfE_LwBo"
   },
   "source": [
    "# Environment"
   ]
  },
  {
   "cell_type": "markdown",
   "metadata": {
    "id": "Jiq1ncrILDK9"
   },
   "source": [
    "## Defining Indicators for the observation"
   ]
  },
  {
   "cell_type": "code",
   "execution_count": 3,
   "metadata": {
    "id": "Tpe_4aJJv9Rt"
   },
   "outputs": [],
   "source": [
    "def data_ops(data):\n",
    "  data.reset_index()\n",
    "  data.ta.macd(close = 'Close', fast = 12, slow = 26, signal=10, append=True)\n",
    "  data.ta.rsi(close='Close', length=10, append=True)\n",
    "  data['TP'] = (data['High'] + data['Low'] + data['Close'])\n",
    "  data['CCI'] = (data['TP'] - data['TP'].rolling(10).mean()) / (0.015 * data['TP'].rolling(10).std())\n",
    "  data['Adj Open'] = data.Open * data['Adj Close']/data['Close']\n",
    "  data['Adj High'] = data.High * data['Adj Close']/data['Close']\n",
    "  data['Adj Low'] = data.Low * data['Adj Close']/data['Close']\n",
    "  adxI = ADXIndicator(data['Adj High'], data['Adj Low'], data['Adj Close'], 10, False)\n",
    "  data['ADX'] = adxI.adx()\n",
    "  data.dropna()\n",
    "  req_col = ['Open', 'High', 'Close', 'Low', 'Adj Close', 'MACDs_12_26_10', 'RSI_10', 'CCI', 'ADX']\n",
    "  new_data = data[req_col]\n",
    "  return new_data.dropna()"
   ]
  },
  {
   "cell_type": "markdown",
   "metadata": {
    "id": "k1Jdz_aFLSaz"
   },
   "source": [
    "## Defining the environment"
   ]
  },
  {
   "cell_type": "code",
   "execution_count": 4,
   "metadata": {
    "id": "etV8VazHcsvU"
   },
   "outputs": [],
   "source": [
    "class StockTradingEnv:\n",
    "  def __init__(self, stock = 'DOGE-USD', start = '2022-10-15', end='2022-11-30', period='15m', start_balance=[1000, 1000], step_val = 4):\n",
    "    data = yf.download(stock, start = start, end = end, interval = period)\n",
    "    self.data = data_ops(data)\n",
    "    self.start_bal = start_balance\n",
    "    self.step_val = step_val\n",
    "    self.step_bal = [(start_balance[0]/self.data.iloc[0]['Adj Close']), start_balance[1]]\n",
    "  \n",
    "  def load_obs(self):\n",
    "    obs = [None] * 7\n",
    "    if self.flag0 == 0:\n",
    "      obs[0] = self.start_bal[1]\n",
    "      obs[1] = self.start_bal[0]/self.data.iloc[0]['Open']\n",
    "    else:\n",
    "      obs[0] = self.step_bal[1]\n",
    "      obs[1] = self.step_bal[0]/self.data.iloc[self.flag0]['Adj Close']\n",
    "    obs[2] = self.data.iloc[self.flag0]['Adj Close']\n",
    "    obs[3] = self.data.iloc[self.flag0]['MACDs_12_26_10']\n",
    "    obs[4] = self.data.iloc[self.flag0]['RSI_10']\n",
    "    obs[5] = self.data.iloc[self.flag0]['CCI']\n",
    "    obs[6] = self.data.iloc[self.flag0]['ADX']\n",
    "    return obs\n",
    "\n",
    "  def reset(self):\n",
    "    self.step_bal = [(self.start_bal[0]/self.data.iloc[0]['Adj Close']), self.start_bal[1]]\n",
    "    self.flag0 = 0\n",
    "    self.observation = self.load_obs()\n",
    "    self.done = False\n",
    "    self.completed = False\n",
    "    self.prev_port_val = 2000\n",
    "    self.port_track = []\n",
    "    self.prev_port = {}\n",
    "    return self.observation\n",
    "\n",
    "  def update_portfolio(self, action):\n",
    "    val = action * self.data.iloc[self.flag0]['Adj Close']\n",
    "    reward = 0\n",
    "    if val > 0:\n",
    "      if val > self.step_bal[1]:\n",
    "        reward = -500\n",
    "      else:\n",
    "        self.step_bal[0] += action\n",
    "        self.step_bal[1] -= val\n",
    "        port_val = self.step_bal[0] * self.data.iloc[self.flag0]['Adj Close'] + self.step_bal[1]\n",
    "        reward = port_val - self.prev_port_val + 5\n",
    "        self.prev_port_val = port_val\n",
    "    elif val < 0 :\n",
    "      if abs(action) > self.step_bal[0]:\n",
    "        reward = -1000\n",
    "      else:\n",
    "        self.step_bal[0] += action\n",
    "        self.step_bal[1] -= val\n",
    "        port_val = self.step_bal[0] * self.data.iloc[self.flag0]['Adj Close'] + self.step_bal[1]\n",
    "        reward = port_val - 2000 + 5\n",
    "        self.prev_port_val = port_val\n",
    "    else:\n",
    "      port_val = self.step_bal[0] * self.data.iloc[self.flag0]['Adj Close'] + self.step_bal[1]\n",
    "      reward = port_val - 2000 + 10\n",
    "      self.prev_port_val = port_val\n",
    "    self.flag0 += 1\n",
    "    self.observation = self.load_obs()\n",
    "    return reward     \n",
    "\n",
    "  def step(self, action):\n",
    "    action = int(action[0]*100)\n",
    "    reward = self.update_portfolio(action)\n",
    "    if self.prev_port_val <= 0:\n",
    "      self.done = True\n",
    "    elif self.flag0 == self.data.shape[0]:\n",
    "      self.completed = True\n",
    "      self.done = True\n",
    "    return self.observation, reward, self.completed, self.done"
   ]
  },
  {
   "cell_type": "markdown",
   "metadata": {
    "id": "nsy4X79mMfQt"
   },
   "source": [
    "# PPO Implementation"
   ]
  },
  {
   "cell_type": "markdown",
   "metadata": {
    "id": "SBRDRoGfLfaW"
   },
   "source": [
    "## Defining the PPO architecture"
   ]
  },
  {
   "cell_type": "code",
   "execution_count": 5,
   "metadata": {
    "id": "KPrTWicsQBz3"
   },
   "outputs": [],
   "source": [
    "class model(torch.nn.Module):\n",
    "    def __init__(self,states,actions):\n",
    "        super(model,self).__init__()\n",
    "        self.states = states\n",
    "        self.actions = actions\n",
    "        \n",
    "        actor_layers = list()\n",
    "        actor_layers.append(nn.Linear(self.states,512))\n",
    "        actor_layers.append(nn.ReLU())\n",
    "        actor_layers.append(nn.Linear(512,512))\n",
    "        actor_layers.append(nn.ReLU())\n",
    "        actor_layers.append(nn.Linear(512,self.actions))\n",
    "        actor_layers.append(nn.Tanh())\n",
    "        \n",
    "        critic_layers = list()\n",
    "        critic_layers.append(nn.Linear(self.states,512))\n",
    "        critic_layers.append(nn.ReLU())\n",
    "        critic_layers.append(nn.Linear(512, 512))\n",
    "        critic_layers.append(nn.ReLU())\n",
    "        critic_layers.append(nn.Linear(512,1))\n",
    "\n",
    "        self.actor_forward = nn.Sequential(*actor_layers)\n",
    "        self.critic_forward = nn.Sequential(*critic_layers)\n",
    "        \n",
    "    def evaluation(self,states,move):\n",
    "        dist = self.actor_forward(states)\n",
    "        act_va = torch.full((self.actions,),0.6*0.6).to(gpu).expand_as(dist)\n",
    "        cov = torch.diag_embed(act_va).to(gpu)\n",
    "        distri = torch.distributions.MultivariateNormal(dist,cov)\n",
    "        if self.actions == 1:\n",
    "            move = move.reshape(-1,self.actions)\n",
    "        action_probability = distri.log_prob(move)\n",
    "        entropy = distri.entropy()\n",
    "        values = self.critic_forward(states)\n",
    "        return action_probability,values,entropy\n",
    "\n",
    "    def move(self,states): \n",
    "        distri = self.actor_forward(states)\n",
    "        cov = torch.diag(torch.full((self.actions,),0.6*0.6).to(gpu)).unsqueeze(dim=0)\n",
    "        dist = torch.distributions.MultivariateNormal(distri,cov)\n",
    "        actions = dist.sample()\n",
    "        probability_actions = dist.log_prob(actions)\n",
    "        return actions.detach(),probability_actions.detach()"
   ]
  },
  {
   "cell_type": "markdown",
   "metadata": {
    "id": "t-yzhiKFMqiC"
   },
   "source": [
    "## Impelementing PPO Algorithm"
   ]
  },
  {
   "cell_type": "code",
   "execution_count": 6,
   "metadata": {
    "id": "IvMFVC5yQN0k"
   },
   "outputs": [],
   "source": [
    "class PPO_algorithm:\n",
    "    def __init__(self, dimension_state, dimension_actions, lr_actor, lr_critic, discount_factor, epochs, factor):\n",
    "        self.list_of_rewards,self.actions,self.states,self.probability,self.completed = list(),list(),list(),list(),list()\n",
    "        self.discount_factor,self.factor,self.epochs,self.losses = discount_factor,factor,epochs,nn.MSELoss()\n",
    "        self.policy = model(dimension_state, dimension_actions).to(gpu)\n",
    "        self.optimizer = torch.optim.Adam([{'params': self.policy.actor_forward.parameters(), 'lr': lr_actor},{'params': self.policy.critic_forward.parameters(), 'lr': lr_critic}])\n",
    "        self.prev_policy = model(dimension_state, dimension_actions).to(gpu)\n",
    "        self.prev_policy.load_state_dict(self.policy.state_dict())\n",
    "\n",
    "    def ammend(self):\n",
    "        disc_rew,rewards = 0,list()\n",
    "        for reward, is_complete in zip(reversed(self.list_of_rewards), reversed(self.completed)):\n",
    "            if is_complete:\n",
    "                disc_rew = 0\n",
    "            disc_rew = reward + (self.discount_factor * disc_rew)\n",
    "            rewards.insert(0, disc_rew)\n",
    "        rewards = torch.tensor(rewards, dtype=torch.float32).to(gpu)\n",
    "        rewards = (rewards - rewards.mean()) / (rewards.std() + 1e-7)\n",
    "        end_actions,end_states,end_probability = torch.squeeze(torch.stack(self.actions, dim=0)).detach().to(gpu),torch.squeeze(torch.stack(self.states, dim=0)).detach().to(gpu),torch.squeeze(torch.stack(self.probability, dim=0)).detach().to(gpu)\n",
    "        iteration = 0\n",
    "        while iteration!=self.epochs:\n",
    "            curr_probability, curr_state, entropy = self.policy.evaluation(end_states, end_actions)\n",
    "            curr_state = torch.squeeze(curr_state)\n",
    "            adv = rewards - curr_state.detach()   \n",
    "            value1,value2 = torch.exp(curr_probability - end_probability.detach()) * adv,torch.clamp(torch.exp(curr_probability - end_probability.detach()), 1-self.factor, 1+self.factor) * adv\n",
    "            loss = (0.5*self.losses(curr_state, rewards))-torch.min(value1, value2)-(0.01*entropy)\n",
    "            self.optimizer.zero_grad()\n",
    "            loss.mean().backward()\n",
    "            self.optimizer.step()\n",
    "            iteration+=1\n",
    "        self.prev_policy.load_state_dict(self.policy.state_dict())\n",
    "        self.actions,self.states,self.probability,self.list_of_rewards,self.completed = list(),list(),list(),list(),list()\n",
    "        \n",
    "    def movement_selection(self, provided_state):\n",
    "        with torch.no_grad():\n",
    "            # print(provided_state)\n",
    "            movement, movement_probability = self.prev_policy.move(torch.FloatTensor(provided_state).to(gpu))\n",
    "            self.states.append(torch.FloatTensor(provided_state).to(gpu))\n",
    "            self.actions.append(movement)\n",
    "            self.probability.append(movement_probability)\n",
    "            return movement.detach().cpu().numpy().flatten()"
   ]
  },
  {
   "cell_type": "markdown",
   "metadata": {
    "id": "bdU653XSMvFg"
   },
   "source": [
    "## Training the environment using PPO"
   ]
  },
  {
   "cell_type": "code",
   "execution_count": 7,
   "metadata": {
    "colab": {
     "base_uri": "https://localhost:8080/"
    },
    "id": "MjyhF1jOQZRp",
    "outputId": "61e80884-4175-4abd-af84-af6393cf26cd"
   },
   "outputs": [
    {
     "name": "stdout",
     "output_type": "stream",
     "text": [
      "Episode end Portfolio value 3042.359621811305\n",
      "Completed Training: [ ==================================================================================================== ] 100 %\n"
     ]
    }
   ],
   "source": [
    "environment = StockTradingEnv()\n",
    "env_states,env_actions = 7,1\n",
    "\n",
    "length_episodes,number_of_episodes,discount_fact,number_epochs,eps = 4000,2000000,0.9,10,0.2\n",
    "lr_critic,lr_actor = 0.0003,0.0003\n",
    "agent = PPO_algorithm(env_states, env_actions, lr_actor, lr_critic, discount_fact, number_epochs, eps)\n",
    "list_of_episodic_reward,stepp = list(),0\n",
    "\n",
    "while stepp <= number_of_episodes:\n",
    "    state = environment.reset()\n",
    "    port_max_list = list()\n",
    "    episodic_reward = 0\n",
    "    for t in range(1, length_episodes+1):\n",
    "        action = agent.movement_selection(state)\n",
    "        state, step_reward, comp,_ = environment.step(action)\n",
    "        agent.list_of_rewards.append(step_reward)\n",
    "        agent.completed.append(comp)\n",
    "        episodic_reward += step_reward\n",
    "        stepp +=1\n",
    "        port_max_list.append(environment.prev_port_val)\n",
    "        if stepp % (length_episodes * 4) == 0:\n",
    "            agent.ammend()\n",
    "        if comp:\n",
    "            list_of_episodic_reward.append(episodic_reward)\n",
    "            print(\"Completed Training:\",\"[\",\"=\"*int((stepp/number_of_episodes)*100),\"]\",int((stepp/number_of_episodes)*100),\"%\")\n",
    "            clear_output(wait=True)\n",
    "            break\n",
    "    print('Episode end Portfolio value',environment.prev_port_val)\n",
    "    list_of_episodic_reward.append(environment.prev_port_val)\n",
    "    print(\"Completed Training:\",\"[\",\"=\"*int((stepp/number_of_episodes)*100),\"]\",int((stepp/number_of_episodes)*100),\"%\")\n",
    "    clear_output(wait=True)"
   ]
  },
  {
   "cell_type": "code",
   "execution_count": 8,
   "metadata": {
    "colab": {
     "base_uri": "https://localhost:8080/",
     "height": 295
    },
    "id": "TllO0HBFQcJe",
    "outputId": "f53d7e25-228c-40e9-83ad-fd5f335d51c6"
   },
   "outputs": [
    {
     "data": {
      "image/png": "[encoded data removed]",
      "text/plain": [
       "<Figure size 432x288 with 1 Axes>"
      ]
     },
     "metadata": {
      "needs_background": "light"
     },
     "output_type": "display_data"
    }
   ],
   "source": [
    "# 2000000\n",
    "plt.plot(list_of_episodic_reward)\n",
    "plt.title(\"Portfolio Value per episode PPO - Train\")\n",
    "plt.xlabel(\"Number of Episode\")\n",
    "plt.ylabel(\"Portfolio value\")\n",
    "plt.show()"
   ]
  },
  {
   "cell_type": "markdown",
   "metadata": {
    "id": "j9fgKhUoM3If"
   },
   "source": [
    "## Testing PPO Implementation on the Environment\n",
    "\n"
   ]
  },
  {
   "cell_type": "code",
   "execution_count": 11,
   "metadata": {
    "colab": {
     "base_uri": "https://localhost:8080/"
    },
    "id": "au94tGurUuM_",
    "outputId": "a4fe8618-36d6-4b27-f768-1c453ca5831e"
   },
   "outputs": [
    {
     "name": "stdout",
     "output_type": "stream",
     "text": [
      "\r",
      "[*********************100%***********************]  1 of 1 completed\n"
     ]
    },
    {
     "name": "stderr",
     "output_type": "stream",
     "text": [
      "/usr/local/lib/python3.8/dist-packages/ta/trend.py:780: RuntimeWarning: invalid value encountered in double_scalars\n",
      "  dip[idx] = 100 * (self._dip[idx] / value)\n",
      "/usr/local/lib/python3.8/dist-packages/ta/trend.py:785: RuntimeWarning: invalid value encountered in double_scalars\n",
      "  din[idx] = 100 * (self._din[idx] / value)\n"
     ]
    }
   ],
   "source": [
    "list_of_test_rewards = list()\n",
    "number_test_episodes = 10\n",
    "environment = StockTradingEnv()\n",
    "for _ in range(number_test_episodes):\n",
    "    episodic_reward = 0\n",
    "    state = environment.reset()\n",
    "    for _ in range(length_episodes):\n",
    "        move = agent.movement_selection(state)\n",
    "        state,rew,comp,_ = environment.step(move)\n",
    "        episodic_reward += rew\n",
    "        if comp == True:\n",
    "            break\n",
    "    list_of_test_rewards.append(environment.prev_port_val)\n",
    "    agent.list_of_rewards,agent.actions,agent.states,agent.probability,agent.completed = list(),list(),list(),list(),list()\n"
   ]
  },
  {
   "cell_type": "code",
   "execution_count": 13,
   "metadata": {
    "colab": {
     "base_uri": "https://localhost:8080/",
     "height": 295
    },
    "id": "Z78gCexe1Co6",
    "outputId": "6bb0da74-4226-44fd-c3ef-26fdf8678245"
   },
   "outputs": [
    {
     "data": {
      "image/png": "[encoded data removed]",
      "text/plain": [
       "<Figure size 432x288 with 1 Axes>"
      ]
     },
     "metadata": {
      "needs_background": "light"
     },
     "output_type": "display_data"
    }
   ],
   "source": [
    "plt.plot(list_of_test_rewards)\n",
    "plt.title(\"Portfolio Value per episode PPO - Test\")\n",
    "plt.xlabel(\"Number of Episode\")\n",
    "plt.ylabel(\"Portfolio Value\")\n",
    "plt.show()"
   ]
  },
  {
   "cell_type": "code",
   "execution_count": 14,
   "metadata": {
    "colab": {
     "base_uri": "https://localhost:8080/"
    },
    "id": "8BFVXqU9qwdE",
    "outputId": "16cda443-072d-470e-8291-d17a80c69fff"
   },
   "outputs": [
    {
     "data": {
      "text/plain": [
       "3042.2952026182747"
      ]
     },
     "execution_count": 14,
     "metadata": {},
     "output_type": "execute_result"
    }
   ],
   "source": [
    "np.mean(list_of_test_rewards)"
   ]
  },
  {
   "cell_type": "code",
   "execution_count": null,
   "metadata": {
    "id": "5MaRF2SV1xsW"
   },
   "outputs": [],
   "source": []
  }
 ],
 "metadata": {
  "accelerator": "GPU",
  "colab": {
   "provenance": []
  },
  "gpuClass": "standard",
  "kernelspec": {
   "display_name": "Python 3 (ipykernel)",
   "language": "python",
   "name": "python3"
  },
  "language_info": {
   "codemirror_mode": {
    "name": "ipython",
    "version": 3
   },
   "file_extension": ".py",
   "mimetype": "text/x-python",
   "name": "python",
   "nbconvert_exporter": "python",
   "pygments_lexer": "ipython3",
   "version": "3.10.4"
  }
 },
 "nbformat": 4,
 "nbformat_minor": 1
}
